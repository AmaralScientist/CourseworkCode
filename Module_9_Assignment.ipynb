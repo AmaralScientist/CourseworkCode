{
 "cells": [
  {
   "cell_type": "code",
   "execution_count": 203,
   "metadata": {},
   "outputs": [],
   "source": [
    "# Load networkx library\n",
    "\n",
    "import networkx as nx\n",
    "\n",
    "# Load matplotlib.pyplot \n",
    "\n",
    "import matplotlib.pyplot as plt\n",
    "\n",
    "# Load numpy\n",
    "\n",
    "import numpy as np\n",
    "\n",
    "# Load itertools\n",
    "import itertools"
   ]
  },
  {
   "cell_type": "code",
   "execution_count": 204,
   "metadata": {},
   "outputs": [],
   "source": [
    "# Read graph from desktop\n",
    "\n",
    "filename=\"/Users/michelleamaral/Desktop/Graph_Analysis/students.graphml\"\n",
    "\n",
    "g = nx.read_graphml( filename )"
   ]
  },
  {
   "cell_type": "markdown",
   "metadata": {},
   "source": [
    "# Count the number of joint neighbors for linked & non-linked vertex pairs"
   ]
  },
  {
   "cell_type": "code",
   "execution_count": 215,
   "metadata": {},
   "outputs": [],
   "source": [
    "# determine all possible combinations of vertex pairs \n",
    "# in students graph\n",
    "y = itertools.combinations(g, 2)\n",
    "\n",
    "# initialize counter to track number of joint neighbors\n",
    "# for vertex pairs that are directly linked\n",
    "jointNeighborsDirectlyLinkedPairs = 0\n",
    "\n",
    "# initialize counter to track number of joint neighbors\n",
    "# for vertex pairs that are NOT directly linked\n",
    "jointNeighborsNotDirectlyLinkedPairs = 0\n",
    "\n",
    "# initialize counter to track total number of\n",
    "# vertex pairs that are directly linked\n",
    "rawNumberLinkedVertices = 0\n",
    "\n",
    "# initialize counter to track total number of\n",
    "# vertex pairs that are not directly linked\n",
    "rawNumberNotLinkedVertices = 0\n",
    "\n",
    "# iterate over each pair of vertices\n",
    "for u, v in y:\n",
    "    \n",
    "    # EVALUATE VERTEX U\n",
    "    # this is a directed graph, so determine predecessor \n",
    "    # and successor nodes that are linked to node u\n",
    "    predecessorsU = list(nx.DiGraph.predecessors(g,u))\n",
    "    successorsU = list(nx.DiGraph.successors(g,u))\n",
    "    \n",
    "    # neighbors of vertex u are defined as the unique set of \n",
    "    # predecessor and successor nodes that are linked to u\n",
    "    neighborsU = list(set(predecessorsU) | set(successorsU)) \n",
    "    \n",
    "    # EVALUATE VERTEX V\n",
    "    # this is a directed graph, so determine predecessor \n",
    "    # and successor nodes that are linked to node v\n",
    "    predecessorsV = list(nx.DiGraph.predecessors(g,v))\n",
    "    successorsV = list(nx.DiGraph.successors(g,v))\n",
    "    \n",
    "    # neighbors of vertex v are defined as the unique set of \n",
    "    # predecessor and successor nodes that are linked to v\n",
    "    neighborsV = list(set(predecessorsV) | set(successorsV)) \n",
    "    \n",
    "    # EVALUATE COMMON NEIGHBORS\n",
    "    # determine the common neighbors of vertex u and vertex v\n",
    "    commonNeighbors = list(set(neighborsU) & set(neighborsV))\n",
    "    \n",
    "    # find the number of common neighbors for this pair of vertices\n",
    "    numberOfCommonNeighbors = len(commonNeighbors)\n",
    "    \n",
    "    # determine whether this pair of vertices are linked or not \n",
    "    if v in neighborsU and u in neighborsV:\n",
    "        # add the number of joint neighbors to the directly linked total\n",
    "        jointNeighborsDirectlyLinkedPairs = jointNeighborsDirectlyLinkedPairs + numberOfCommonNeighbors\n",
    "        # increase the count of vertex pairs that are directly linked\n",
    "        rawNumberLinkedVertices = rawNumberLinkedVertices + 1\n",
    "    else:\n",
    "        # add the number of joint neighbors to the not-directly-linked total\n",
    "        jointNeighborsNotDirectlyLinkedPairs = jointNeighborsNotDirectlyLinkedPairs + numberOfCommonNeighbors\n",
    "        # increase the count of vertex pairs that are not directly linked\n",
    "        rawNumberNotLinkedVertices = rawNumberNotLinkedVertices + 1\n",
    "        "
   ]
  },
  {
   "cell_type": "markdown",
   "metadata": {},
   "source": [
    "# Calculate the average number of joint neighbors "
   ]
  },
  {
   "cell_type": "markdown",
   "metadata": {},
   "source": [
    "### ... for vertex pairs that are directly linked"
   ]
  },
  {
   "cell_type": "code",
   "execution_count": 212,
   "metadata": {},
   "outputs": [
    {
     "name": "stdout",
     "output_type": "stream",
     "text": [
      "There are a total of 2256 joint neighbors among all vertex pairs that are directly linked.\n",
      "\n",
      "There are a total of 1136 vertex pairs that are directly linked in students graph. \n",
      "\n",
      "There is an average of 1.99 joint neighbors for vertex pairs that are directly linked. \n",
      "\n"
     ]
    }
   ],
   "source": [
    "print( \"There are a total of \" + str(jointNeighborsDirectlyLinkedPairs) + \n",
    "      \" joint neighbors among all vertex pairs that are directly linked.\\n\" )\n",
    "\n",
    "print( \"There are a total of \" + str(rawNumberLinkedVertices) +\n",
    "      \" vertex pairs that are directly linked in students graph. \\n\" )\n",
    "\n",
    "avgDirectlyLinked = jointNeighborsDirectlyLinkedPairs / rawNumberLinkedVertices\n",
    "\n",
    "print( \"There is an average of \" + \n",
    "      str( round (avgDirectlyLinked, 2) ) + \n",
    "      \" joint neighbors for vertex pairs that are directly linked. \\n\" )"
   ]
  },
  {
   "cell_type": "markdown",
   "metadata": {},
   "source": [
    "### ... for vertex pairs that are not directly linked"
   ]
  },
  {
   "cell_type": "code",
   "execution_count": 213,
   "metadata": {},
   "outputs": [
    {
     "name": "stdout",
     "output_type": "stream",
     "text": [
      "There are a total of 8117 joint neighbors among all the vertices that are not directly linked.\n",
      "\n",
      "There are a total of 41059 vertex pairs that are not directly linked in students graph. \n",
      "\n",
      "There is an average of 0.2 joint neighbors for vertex pairs that are not directly linked. \n",
      "\n"
     ]
    }
   ],
   "source": [
    "print( \"There are a total of \" + str(jointNeighborsNotDirectlyLinkedPairs) + \n",
    "      \" joint neighbors among all the vertices that are not directly linked.\\n\" )\n",
    "\n",
    "print( \"There are a total of \" + str(rawNumberNotLinkedVertices) +\n",
    "      \" vertex pairs that are not directly linked in students graph. \\n\")\n",
    "\n",
    "avgNotDirectlyLinked = jointNeighborsNotDirectlyLinkedPairs / rawNumberNotLinkedVertices\n",
    "\n",
    "print( \"There is an average of \" + \n",
    "      str( round (avgNotDirectlyLinked, 2) ) + \n",
    "      \" joint neighbors for vertex pairs that are not directly linked. \\n\" )"
   ]
  },
  {
   "cell_type": "markdown",
   "metadata": {},
   "source": [
    "### ... for all vertex pairs, whether linked or unlinked"
   ]
  },
  {
   "cell_type": "code",
   "execution_count": 214,
   "metadata": {},
   "outputs": [
    {
     "name": "stdout",
     "output_type": "stream",
     "text": [
      "There are a total of 10373 joint neighbors among all possible vertex pairs in students graph.\n",
      "\n",
      "There are a total of 42195 possible vertex pairs in students graph. \n",
      "\n",
      "There is an average of 0.25 joint neighbors for all possible vertex pairs, whether linked or unlinked. \n",
      "\n"
     ]
    }
   ],
   "source": [
    "print( \"There are a total of \" + str(jointNeighborsDirectlyLinkedPairs + \n",
    "                                     jointNeighborsNotDirectlyLinkedPairs) + \n",
    "      \" joint neighbors among all possible vertex pairs in students graph.\\n\" )\n",
    "\n",
    "print( \"There are a total of \" + str(rawNumberLinkedVertices + rawNumberNotLinkedVertices) +\n",
    "      \" possible vertex pairs in students graph. \\n\" )\n",
    "\n",
    "avgJointNeighbors = (jointNeighborsDirectlyLinkedPairs + \n",
    "                     jointNeighborsNotDirectlyLinkedPairs) / (rawNumberLinkedVertices + \n",
    "                                                              rawNumberNotLinkedVertices)\n",
    "\n",
    "print( \"There is an average of \" + \n",
    "      str( round (avgJointNeighbors, 2) ) + \n",
    "      \" joint neighbors for all possible vertex pairs, whether linked or unlinked. \\n\" )"
   ]
  },
  {
   "cell_type": "code",
   "execution_count": null,
   "metadata": {},
   "outputs": [],
   "source": []
  }
 ],
 "metadata": {
  "kernelspec": {
   "display_name": "Python 3",
   "language": "python",
   "name": "python3"
  },
  "language_info": {
   "codemirror_mode": {
    "name": "ipython",
    "version": 3
   },
   "file_extension": ".py",
   "mimetype": "text/x-python",
   "name": "python",
   "nbconvert_exporter": "python",
   "pygments_lexer": "ipython3",
   "version": "3.7.6"
  }
 },
 "nbformat": 4,
 "nbformat_minor": 4
}
