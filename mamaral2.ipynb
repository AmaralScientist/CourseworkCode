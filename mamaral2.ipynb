{
 "cells": [
  {
   "cell_type": "markdown",
   "metadata": {},
   "source": [
    "# Module 1 - Programming Assignment\n",
    "\n",
    "## Directions\n",
    "\n",
    "1. Change the name of this file to be your JHED id as in `jsmith299.ipynb`. Because sure you use your JHED ID (it's made out of your name and not your student id which is just letters and numbers).\n",
    "2. Make sure the notebook you submit is cleanly and fully executed. I do not grade unexecuted notebooks.\n",
    "3. Submit your notebook back in Blackboard where you downloaded this file.\n",
    "\n",
    "*Provide the output **exactly** as requested*"
   ]
  },
  {
   "cell_type": "markdown",
   "metadata": {},
   "source": [
    "# State Space Search with A* Search\n",
    "\n",
    "You are going to implement the A\\* Search algorithm for navigation problems.\n",
    "\n",
    "\n",
    "## Motivation\n",
    "\n",
    "Search is often used for path-finding in video games. Although the characters in a video game often move in continuous spaces,\n",
    "it is trivial to layout a \"waypoint\" system as a kind of navigation grid over the continuous space. Then if the character needs\n",
    "to get from Point A to Point B, it does a line of sight (LOS) scan to find the nearest waypoint (let's call it Waypoint A) and\n",
    "finds the nearest, LOS waypoint to Point B (let's call it Waypoint B). The agent then does a A* search for Waypoint B from Waypoint A to find the shortest path. The entire path is thus Point A to Waypoint A to Waypoint B to Point B.\n",
    "\n",
    "We're going to simplify the problem by working in a grid world. The symbols that form the grid have a special meaning as they\n",
    "specify the type of the terrain and the cost to enter a grid cell with that type of terrain:\n",
    "\n",
    "```\n",
    "token   terrain    cost \n",
    ".       plains     1\n",
    "*       forest     3\n",
    "#       hills      5\n",
    "~       swamp      7\n",
    "x       mountains  impassible\n",
    "```\n",
    "\n",
    "We can think of the raw format of the map as being something like:\n",
    "\n",
    "```\n",
    "....*..\n",
    "...***.\n",
    ".###...\n",
    "..##...\n",
    "..#..**\n",
    "....***\n",
    ".......\n",
    "```"
   ]
  },
  {
   "cell_type": "markdown",
   "metadata": {},
   "source": [
    "## The World\n",
    "\n",
    "Given a map like the one above, we can easily represent each row as a `List` and the entire map as `List of Lists`:"
   ]
  },
  {
   "cell_type": "code",
   "execution_count": 30,
   "metadata": {},
   "outputs": [],
   "source": [
    "full_world = [\n",
    "  ['.', '.', '.', '.', '.', '*', '*', '*', '*', '*', '*', '*', '*', '*', '*', '.', '.', '.', '.', '.', '.', '.', '.', '.', '.', '.', '.'], \n",
    "  ['.', '.', '.', '.', '.', '.', '.', '*', '*', '*', '*', '*', '*', '*', '*', '*', '.', '.', 'x', 'x', 'x', 'x', 'x', 'x', 'x', '.', '.'], \n",
    "  ['.', '.', '.', '.', 'x', 'x', '*', '*', '*', '*', '*', '*', '*', '*', '*', '*', '*', 'x', 'x', 'x', '#', '#', '#', 'x', 'x', '#', '#'], \n",
    "  ['.', '.', '.', '.', '#', 'x', 'x', 'x', '*', '*', '*', '*', '~', '~', '*', '*', '*', '*', '*', '.', '.', '#', '#', 'x', 'x', '#', '.'], \n",
    "  ['.', '.', '.', '#', '#', 'x', 'x', '*', '*', '.', '.', '~', '~', '~', '~', '*', '*', '*', '.', '.', '.', '#', 'x', 'x', 'x', '#', '.'], \n",
    "  ['.', '#', '#', '#', 'x', 'x', '#', '#', '.', '.', '.', '.', '~', '~', '~', '~', '~', '.', '.', '.', '.', '.', '#', 'x', '#', '.', '.'], \n",
    "  ['.', '#', '#', 'x', 'x', '#', '#', '.', '.', '.', '.', '#', 'x', 'x', 'x', '~', '~', '~', '.', '.', '.', '.', '.', '#', '.', '.', '.'], \n",
    "  ['.', '.', '#', '#', '#', '#', '#', '.', '.', '.', '.', '.', '.', '#', 'x', 'x', 'x', '~', '~', '~', '.', '.', '#', '#', '#', '.', '.'], \n",
    "  ['.', '.', '.', '#', '#', '#', '.', '.', '.', '.', '.', '.', '#', '#', 'x', 'x', '.', '~', '~', '.', '.', '#', '#', '#', '.', '.', '.'], \n",
    "  ['.', '.', '.', '~', '~', '~', '.', '.', '#', '#', '#', 'x', 'x', 'x', 'x', '.', '.', '.', '~', '.', '#', '#', '#', '.', '.', '.', '.'], \n",
    "  ['.', '.', '~', '~', '~', '~', '~', '.', '#', '#', 'x', 'x', 'x', '#', '.', '.', '.', '.', '.', '#', 'x', 'x', 'x', '#', '.', '.', '.'], \n",
    "  ['.', '~', '~', '~', '~', '~', '.', '.', '#', 'x', 'x', '#', '.', '.', '.', '.', '~', '~', '.', '.', '#', 'x', 'x', '#', '.', '.', '.'], \n",
    "  ['~', '~', '~', '~', '~', '.', '.', '#', '#', 'x', 'x', '#', '.', '~', '~', '~', '~', '.', '.', '.', '#', 'x', '#', '.', '.', '.', '.'], \n",
    "  ['.', '~', '~', '~', '~', '.', '.', '#', '*', '*', '#', '.', '.', '.', '.', '~', '~', '~', '~', '.', '.', '#', '.', '.', '.', '.', '.'], \n",
    "  ['.', '.', '.', '.', 'x', '.', '.', '*', '*', '*', '*', '#', '#', '#', '#', '.', '~', '~', '~', '.', '.', '#', 'x', '#', '.', '.', '.'], \n",
    "  ['.', '.', '.', 'x', 'x', 'x', '*', '*', '*', '*', '*', '*', 'x', 'x', 'x', '#', '#', '.', '~', '.', '#', 'x', 'x', '#', '.', '.', '.'], \n",
    "  ['.', '.', 'x', 'x', '*', '*', '*', '*', '*', '*', '*', '*', '*', '*', 'x', 'x', 'x', '.', '.', 'x', 'x', 'x', '.', '.', '.', '.', '.'], \n",
    "  ['.', '.', '.', 'x', 'x', '*', '*', '*', '*', '*', '*', '*', '*', '*', '*', '*', 'x', 'x', 'x', 'x', '.', '.', '.', '.', '.', '.', '.'], \n",
    "  ['.', '.', '.', 'x', 'x', 'x', '*', '*', '*', '*', '*', '*', '*', '*', '.', '.', '.', '#', '#', '.', '.', '.', '.', '.', '.', '.', '.'], \n",
    "  ['.', '.', '.', '.', 'x', 'x', 'x', '*', '*', '*', '*', '*', '*', '.', '.', '.', '.', '.', '.', '.', '.', '.', '.', '~', '~', '~', '~'], \n",
    "  ['.', '.', '#', '#', '#', '#', 'x', 'x', '*', '*', '*', '*', '*', '.', 'x', '.', '.', '.', '.', '.', '~', '~', '~', '~', '~', '~', '~'], \n",
    "  ['.', '.', '.', '.', '#', '#', '#', 'x', 'x', 'x', '*', '*', 'x', 'x', '.', '.', '.', '.', '.', '.', '~', '~', '~', '~', '~', '~', '~'], \n",
    "  ['.', '.', '.', '.', '.', '.', '#', '#', '#', 'x', 'x', 'x', 'x', '.', '.', '.', '.', '#', '#', '.', '.', '~', '~', '~', '~', '~', '~'], \n",
    "  ['.', '#', '#', '.', '.', '#', '#', '#', '#', '#', '.', '.', '.', '.', '.', '#', '#', 'x', 'x', '#', '#', '.', '~', '~', '~', '~', '~'], \n",
    "  ['#', 'x', '#', '#', '#', '#', '.', '.', '.', '.', '.', 'x', 'x', 'x', '#', '#', 'x', 'x', '.', 'x', 'x', '#', '#', '~', '~', '~', '~'], \n",
    "  ['#', 'x', 'x', 'x', '#', '.', '.', '.', '.', '.', '#', '#', 'x', 'x', 'x', 'x', '#', '#', '#', '#', 'x', 'x', 'x', '~', '~', '~', '~'], \n",
    "  ['#', '#', '.', '.', '.', '.', '.', '.', '.', '.', '.', '.', '#', '#', '#', '#', '#', '.', '.', '.', '.', '#', '#', '#', '.', '.', '.']]"
   ]
  },
  {
   "cell_type": "markdown",
   "metadata": {},
   "source": [
    "## Warning\n",
    "\n",
    "One implication of this representation is that (x, y) is world[ y][ x] so that (3, 2) is world[ 2][ 3] and world[ 7][ 9] is (9, 7). Yes, there are many ways to do this. I picked this representation because when you look at it, it *looks* like a regular x, y cartesian grid and it's easy to print out.\n",
    "\n",
    "It is often easier to begin your programming by operating on test input that has an obvious solution. If we had a small 7x7 world with the following characteristics:"
   ]
  },
  {
   "cell_type": "code",
   "execution_count": 31,
   "metadata": {},
   "outputs": [],
   "source": [
    "test_world = [\n",
    "  ['.', '*', '*', '*', '*', '*', '*'],\n",
    "  ['.', '*', '*', '*', '*', '*', '*'],\n",
    "  ['.', '*', '*', '*', '*', '*', '*'],\n",
    "  ['.', '.', '.', '.', '.', '.', '.'],\n",
    "  ['*', '*', '*', '*', '*', '*', '.'],\n",
    "  ['*', '*', '*', '*', '*', '*', '.'],\n",
    "  ['*', '*', '*', '*', '*', '*', '.'],\n",
    "]"
   ]
  },
  {
   "cell_type": "markdown",
   "metadata": {},
   "source": [
    "**what do you expect the policy would be?** Think about it for a bit. This will help you with your programming and debugging."
   ]
  },
  {
   "cell_type": "markdown",
   "metadata": {},
   "source": [
    "## States and State Representation\n",
    "\n",
    "The canonical pieces of a State Space Search problem are the States, Actions, Transitions and Costs. \n",
    "\n",
    "We'll start with the state representation. For the navigation problem, a state is the current position of the agent, `(x,y)`. The entire set of possible states is implicitly represented by the world map."
   ]
  },
  {
   "cell_type": "markdown",
   "metadata": {},
   "source": [
    "## Actions and Transitions\n",
    "\n",
    "Next we need to specify the actions. In general, there are a number of different possible action sets in such a world. The agent might be constrained to move north/south/east/west or diagonal moves might be permitted as well (or really anything). When combined with the set of States, the *permissible* actions forms the Transition set.\n",
    "\n",
    "Rather than enumerate the Transition set directly, for this problem it's easier to calculate the available actions and transitions on the fly. This can be done by specifying a *movement model* as offsets to the current state and then checking to see which of the potential successor states are actually permitted. This can be done in the successor function mentioned in the pseudocode.\n",
    "\n",
    "One such example of a movement model is shown below."
   ]
  },
  {
   "cell_type": "code",
   "execution_count": 6,
   "metadata": {},
   "outputs": [],
   "source": [
    "MOVES = [(0,-1), (1,0), (0,1), (-1,0)]"
   ]
  },
  {
   "cell_type": "markdown",
   "metadata": {},
   "source": [
    "## Costs\n",
    "\n",
    "We can encode the costs described above in a `Dict`:"
   ]
  },
  {
   "cell_type": "code",
   "execution_count": 7,
   "metadata": {},
   "outputs": [],
   "source": [
    "COSTS = { '.': 1, '*': 3, '#': 5, '~': 7}"
   ]
  },
  {
   "cell_type": "markdown",
   "metadata": {},
   "source": [
    "## A\\* Search Implementation\n",
    "\n",
    "As Python is an interpreted language, you're going to need to insert all of your helper functions *before* the actual `a_star_search` function implementation.\n",
    "\n",
    "Please **read the Blackboard** for information about the expected code structure. I expect a \"literate\" style of \"functional\" programming (nothing fancy: only define functions, no class definitions, pass state between functions, isolate side effects like printing). Notebooks do not lend themselves to OOP very well.\n",
    "\n",
    "-----"
   ]
  },
  {
   "cell_type": "code",
   "execution_count": 5,
   "metadata": {},
   "outputs": [],
   "source": [
    "# add as many markdown and code cells here as you need for helper functions."
   ]
  },
  {
   "cell_type": "markdown",
   "metadata": {},
   "source": [
    "### Helper Functions"
   ]
  },
  {
   "cell_type": "markdown",
   "metadata": {},
   "source": [
    "The helper function, size_of_world, accepts the state representation of the world as a list of lists and returns its maximum x-coordinate and its maximum y-coordinate in Cartesian space as integers."
   ]
  },
  {
   "cell_type": "code",
   "execution_count": 5,
   "metadata": {},
   "outputs": [
    {
     "name": "stdout",
     "output_type": "stream",
     "text": [
      "maxXcoord of test world:  6\n",
      "maxYcoord of test world:  6\n"
     ]
    }
   ],
   "source": [
    "\n",
    "def size_of_world( world ):\n",
    "    maxYcoord = len( world ) - 1\n",
    "    maxXcoord = len( world[0] ) - 1\n",
    "    return( maxXcoord, maxYcoord )\n",
    "\n",
    "# Exercise code\n",
    "maxXcoord, maxYcoord = size_of_world( test_world )\n",
    "print(\"maxXcoord of test world: \", maxXcoord)\n",
    "print(\"maxYcoord of test world: \", maxYcoord)\n"
   ]
  },
  {
   "cell_type": "markdown",
   "metadata": {},
   "source": [
    "The helper function, sum_tuples, accepts an action (or move) as a tuple as well as the coordinates that describe the current state as a tuple. The coordinates are contained in the form (x-coordinate, y_coordinate). The x-coordinates are summed and the y-coordinates are summed. The return type is a tuple and it corresponds to the next state to which an agent would move."
   ]
  },
  {
   "cell_type": "code",
   "execution_count": 8,
   "metadata": {},
   "outputs": [
    {
     "name": "stdout",
     "output_type": "stream",
     "text": [
      "Beginning at the following state:  (5, 4)\n",
      "and moving one position to the right\n",
      "results in this new location:  (6, 4)\n"
     ]
    }
   ],
   "source": [
    "\n",
    "def sum_tuples( this_move, this_state ):\n",
    "    \n",
    "    xNextState = this_state[0] + this_move[0]\n",
    "    yNextState = this_state[1] + this_move[1]\n",
    "    \n",
    "    next_state = (xNextState, yNextState)\n",
    "    \n",
    "    return( next_state )\n",
    "\n",
    "# Exercise code\n",
    "a_current_state = ( 5, 4 )\n",
    "print( \"Beginning at the following state: \", a_current_state )\n",
    "an_action = ( 1, 0 )\n",
    "print( \"and moving one position to the right\" )\n",
    "resulting_state = sum_tuples( an_action, a_current_state )\n",
    "print( \"results in this new location: \", resulting_state )"
   ]
  },
  {
   "cell_type": "markdown",
   "metadata": {},
   "source": [
    "This function, calculate_next_states, passes in the current state argument as a tuple in the form (x-coordinate, y-coordinate); a list containing tuples of the form (x-coordinate, y-coordinate) corresponding to actions/moves that can be made by an agent; and a state representation of the world in the form of a list of lists. The function calculates the coordinates of the next states that are possible based upon the actions represented in the moves list. A list containing tuples that correspond to those next states is returned. "
   ]
  },
  {
   "cell_type": "code",
   "execution_count": 9,
   "metadata": {},
   "outputs": [
    {
     "name": "stdout",
     "output_type": "stream",
     "text": [
      "If an agent is currently in the following state within the test world:  (4, 3)\n",
      "and has the following actions available:  [(0, -1), (1, 0), (0, 1), (-1, 0)]\n",
      "The next states would be at the following locations:  [(4, 2), (5, 3), (4, 4), (3, 3)]\n"
     ]
    }
   ],
   "source": [
    "\n",
    "def calculate_next_states( state, moves, world ):\n",
    "\n",
    "    maxXcoord, maxYcoord = size_of_world( world )\n",
    "    next_states = []\n",
    "    \n",
    "    # move up\n",
    "    if state[1] != 0:\n",
    "        move = moves[0]\n",
    "        upState = sum_tuples( move, state )\n",
    "    else:\n",
    "        upState = state\n",
    "    next_states.append( upState )\n",
    "    \n",
    "    # move right\n",
    "    if state[0] < maxXcoord:\n",
    "        move = moves[1]\n",
    "        rightState = sum_tuples( move, state )\n",
    "    else:\n",
    "        rightState = state\n",
    "    next_states.append( rightState )\n",
    "    \n",
    "    # move down\n",
    "    if state[1] < maxYcoord:\n",
    "        move = moves[2]\n",
    "        downState = sum_tuples( move, state )\n",
    "    else:\n",
    "        downState = state\n",
    "    next_states.append( downState )\n",
    "    \n",
    "    # move left\n",
    "    if state[0] != 0:\n",
    "        move = moves[3]\n",
    "        leftState = sum_tuples( move, state )\n",
    "    else:\n",
    "        leftState = state\n",
    "    next_states.append( leftState )\n",
    "        \n",
    "    return( next_states )\n",
    "\n",
    "# Exercise code\n",
    "this_state = ( 4, 3 )\n",
    "print( \"If an agent is currently in the following state within the test world: \", this_state )\n",
    "list_of_moves = [(0, -1), (1, 0), (0, 1), (-1, 0)]\n",
    "print( \"and has the following actions available: \", list_of_moves )\n",
    "these_next_states = calculate_next_states( this_state, list_of_moves, test_world )\n",
    "print( \"The next states would be at the following locations: \", these_next_states )"
   ]
  },
  {
   "cell_type": "markdown",
   "metadata": {},
   "source": [
    "This function, find_successors, returns the eligible child nodes of the current state. A dictionary containing information about the current state of an agent is passed in as stateDict. The function also accepts a list containing tuples that correspond to the actions available to an agent. A state representation of the world in the form of a list of lists is also passed in. The function ensures that an action results in a new state (i.e. that an action does not cause the agent to move outside the coordinates of the world). In addition, the cost of each move is calculated as are g(n), h(n), and f(n). The function returns a list of children in the form of a tuple containing another tuple with (f(n), location of child state) and a dictionary containing the values of g(n), h(n), and the previous node visited.\n"
   ]
  },
  {
   "cell_type": "code",
   "execution_count": 21,
   "metadata": {},
   "outputs": [],
   "source": [
    "\n",
    "def find_successors( stateDict, moves, world ):\n",
    "    \n",
    "    path_from_previous_node = stateDict[\"path\"]\n",
    "    g_n_from_previous_node = stateDict[\"g\"]\n",
    "    \n",
    "    # initialize empty list to store the children\n",
    "    children = []\n",
    "    # determine the new coordinates of the states resulting from the available actions\n",
    "    potential_child_nodes = calculate_next_states( stateDict[\"state\"], moves, world )\n",
    "    \n",
    "    # check whether the new states are the same as the current state i.e. if the moves were possible.\n",
    "    # If equal to current state, the state was on an edge of the map\n",
    "    # and the move could not be performed without falling off the map\n",
    "        \n",
    "    for child_index in range( 0, len(potential_child_nodes) ):\n",
    "        # check to make sure there is indeed a new state that was moved to\n",
    "        if potential_child_nodes[child_index] != stateDict[\"state\"]:\n",
    "            \n",
    "            if potential_child_nodes[child_index] in stateDict[\"path\"]:\n",
    "                continue\n",
    "            \n",
    "            # determine symbol for that position\n",
    "            xCoord = potential_child_nodes[child_index][0]\n",
    "            yCoord = potential_child_nodes[child_index][1]\n",
    "            \n",
    "            # if action results in a forbidden state, continue\n",
    "            if world[yCoord][xCoord] == \"x\":\n",
    "                continue\n",
    "            \n",
    "            # determine cost of that action\n",
    "            cost_of_action = COSTS[world[yCoord][xCoord]]\n",
    "            \n",
    "            g_node = g_n_from_previous_node + cost_of_action\n",
    "            h_node = my_heuristic( stateDict[\"state\"], goal )\n",
    "            f_node = g_node + h_node\n",
    "            \n",
    "            # assemble information into a dictionary\n",
    "            this_dict = {}\n",
    "            this_dict[\"state\"] = potential_child_nodes[child_index]\n",
    "            this_dict[\"h\"] = h_node\n",
    "            this_dict[\"g\"] = g_node\n",
    "                        \n",
    "            path_so_far = []\n",
    "            for j in range( 0, len(path_from_previous_node) ):\n",
    "                path_so_far.append( path_from_previous_node[j] )\n",
    "            # append coordinate for this state to the path\n",
    "            path_so_far.append( potential_child_nodes[child_index] )            \n",
    "            this_dict[\"path\"] = path_so_far\n",
    "           \n",
    "            # attach f(n) to the dictionary\n",
    "            key_as_tuple = ( f_node, potential_child_nodes[child_index] )\n",
    "            this_tuple = ( key_as_tuple, this_dict )\n",
    "            #print(\"this tuple: \", this_tuple)\n",
    "            children.append( this_tuple )\n",
    "    \n",
    "    return( children )\n"
   ]
  },
  {
   "cell_type": "markdown",
   "metadata": {},
   "source": [
    "### Funcition: my_heuristic "
   ]
  },
  {
   "cell_type": "markdown",
   "metadata": {},
   "source": [
    "The function, my_heuristic, accepts the current state in the form of a tuple (x-coordinate, y_coordinate) and the location of the goal state as a tuple (x-coordinate, y_coordinate). The Manhattan distance between the two is calculated and returned as an integer. Formally, this value is h(n), which is the estimated distance between the current state and the goal state.\n"
   ]
  },
  {
   "cell_type": "code",
   "execution_count": 18,
   "metadata": {},
   "outputs": [
    {
     "name": "stdout",
     "output_type": "stream",
     "text": [
      "With a current state of:  (3, 2)\n",
      "and a goal state of:  (6, 6)\n",
      "The Manhattan distance is:  7\n"
     ]
    }
   ],
   "source": [
    "# change the formal arguments and the return value to be what you need.\n",
    "def my_heuristic( currentState, goalState ):\n",
    "    # extract x-coordinate of the current state\n",
    "    x_coord_current_state = currentState[0]\n",
    "    # extract x-coordinate of the goal state\n",
    "    x_coord_goal_state = goalState[0]\n",
    "    \n",
    "    # extract y-coordinate of the current state\n",
    "    y_coord_current_state = currentState[1]\n",
    "    # extract y-coordinate of the goal state\n",
    "    y_coord_goal_state = goalState[1]\n",
    "    \n",
    "    # calculate distance in the x direction\n",
    "    x_distance = abs( x_coord_current_state - x_coord_goal_state )\n",
    "    # calculate distance in the y direction\n",
    "    y_distance = abs( y_coord_current_state - y_coord_goal_state )\n",
    "    \n",
    "    h_distance = x_distance + y_distance\n",
    "    \n",
    "    return( h_distance )\n",
    "\n",
    "# Exercise code\n",
    "current = ( 3, 2 )\n",
    "print( \"With a current state of: \", current )\n",
    "goal = ( 6, 6 )\n",
    "print( \"and a goal state of: \", goal )\n",
    "this_distance = my_heuristic( current, goal )\n",
    "print( \"The Manhattan distance is: \", this_distance )"
   ]
  },
  {
   "cell_type": "markdown",
   "metadata": {},
   "source": [
    "**a_star_search**\n",
    "\n",
    "The `a_star_search` function uses the A\\* Search algorithm to solve a navigational problem for an agent in a grid world. It calculates a path from the start state to the goal state and returns the actions required to get from the start to the goal.\n",
    "\n",
    "* **world** is the starting state representation for a navigation problem.\n",
    "* **start** is the starting location, `(x, y)`.\n",
    "* **goal** is the desired end position, `(x, y)`.\n",
    "* **costs** is a `Dict` of costs for each type of terrain.\n",
    "* **moves** is the legal movement model expressed in offsets.\n",
    "* **heuristic** is a heuristic function that returns an estimate of the total cost $f(x)$ from the start to the goal through the current node, $x$. The heuristic function might change with the movement model.\n",
    "\n",
    "\n",
    "The function returns the offsets needed to get from start state to the goal as a `List`. For example, for the test world:\n",
    "\n",
    "```\n",
    "  ['.', '*', '*', '*', '*', '*', '*'],\n",
    "  ['.', '*', '*', '*', '*', '*', '*'],\n",
    "  ['.', '*', '*', '*', '*', '*', '*'],\n",
    "  ['.', '.', '.', '.', '.', '.', '.'],\n",
    "  ['*', '*', '*', '*', '*', '*', '.'],\n",
    "  ['*', '*', '*', '*', '*', '*', '.'],\n",
    "  ['*', '*', '*', '*', '*', '*', '.'],\n",
    "\n",
    "```\n",
    "\n",
    "it would return:\n",
    "\n",
    "`[(0,1), (0,1), (0,1), (1,0), (1,0), (1,0), (1,0), (1,0), (1,0), (0,1), (0,1), (0,1)]`\n",
    "\n",
    "Do not make unwarranted assumptions. For example, do not assume the starting point is always `(0, 0)` or that the goal is always in the lower right hand corner."
   ]
  },
  {
   "cell_type": "code",
   "execution_count": 25,
   "metadata": {},
   "outputs": [],
   "source": [
    "def a_star_search( world, start, goal, costs, moves, heuristic ):\n",
    "    frontier = {}\n",
    "    exploredList = []\n",
    "\n",
    "    # place initial state on frontier\n",
    "    g_node = 0\n",
    "    h_node = my_heuristic( start, goal )\n",
    "    f_node = g_node + h_node\n",
    "    \n",
    "    # initialize frontier dictionary\n",
    "    this_dict = {}\n",
    "    this_dict[\"state\"] = start\n",
    "    this_dict[\"g\"] = g_node\n",
    "    this_dict[\"h\"] = h_node\n",
    "    this_dict[\"path\"] = [start]\n",
    "    key_as_tuple = (f_node, start)\n",
    "\n",
    "    frontier[key_as_tuple] = this_dict\n",
    "\n",
    "    while frontier:\n",
    "        # determine which state has the lowest f(n) value on the frontier\n",
    "        frontier_fn_entries = []\n",
    "    \n",
    "        # isolate f(n) values from tuple and determine lowest f(n)\n",
    "        for dict_entry in frontier:\n",
    "            this_fn = dict_entry[0]\n",
    "            frontier_fn_entries.append( this_fn )\n",
    "        lowest_fn = min( frontier_fn_entries )\n",
    "    \n",
    "        for dict_entry in frontier:\n",
    "            this_fn = dict_entry[0]\n",
    "            if this_fn == lowest_fn:\n",
    "                next_state = dict_entry\n",
    "                break\n",
    "    \n",
    "        # the state with the lowest f(n) becomes the current state\n",
    "        currentStateDict = frontier[next_state]\n",
    "        currentState = currentStateDict[\"state\"]\n",
    "    \n",
    "        # pop the state with the lowest f(n) from the frontier\n",
    "        del frontier[next_state]\n",
    "    \n",
    "        # check if the current state is the goal state\n",
    "        if currentState == goal:\n",
    "            path = ( currentStateDict[\"path\"] )\n",
    "        \n",
    "        # obtain children / successors\n",
    "        children = find_successors( currentStateDict, moves, world )\n",
    "    \n",
    "        # if there are no children, it is a terminal (but not necessarily goal) state\n",
    "        if not children:\n",
    "            continue\n",
    "       \n",
    "        for child_index in range( 0, len(children) ):\n",
    "            # check if child is on explored list\n",
    "            if children[child_index][0][1] in exploredList:\n",
    "                continue        \n",
    "        \n",
    "            # check if child is on frontier already       \n",
    "            duplicate_state_counter = 0\n",
    "            for dict_index in frontier:\n",
    "                child_state = children[child_index][0][1]\n",
    "                frontier_state = dict_index[1]\n",
    "                child_fn = children[child_index][0][0]\n",
    "                frontier_fn = dict_index[0]\n",
    "            \n",
    "                if child_state == frontier_state:\n",
    "                    duplicate_state_counter = duplicate_state_counter + 1\n",
    "                    # if node is on frontier, check which has smaller f(n)\n",
    "                    if child_fn < frontier_fn:\n",
    "                        del frontier[dict_index]\n",
    "                        frontier[children[child_index][0]] = children[child_index][1]\n",
    "                        break                \n",
    "        \n",
    "            # if not on frontier or explored list, add to frontier        \n",
    "            if duplicate_state_counter == 0:\n",
    "                frontier[children[child_index][0]] = children[child_index][1]\n",
    "\n",
    "        exploredList.append( currentState )\n",
    "    return( path )"
   ]
  },
  {
   "cell_type": "markdown",
   "metadata": {},
   "source": [
    "**pretty_print_solution**\n",
    "\n",
    "The `pretty_print_solution` function prints an ASCII representation of the solution generated by the `a_star_search`. For example, for the test world, it would take the `world` and `path` and print:\n",
    "\n",
    "```\n",
    "v******\n",
    "v******\n",
    "v******\n",
    ">>>>>>v\n",
    "******v\n",
    "******v\n",
    "******G\n",
    "```\n",
    "\n",
    "using `v`, `^`, `>`, `<` to represent actions and `G` to represent the goal. (Note the format of the output...there are no spaces, commas, or extraneous characters). You are printing the path over the terrain.\n"
   ]
  },
  {
   "cell_type": "markdown",
   "metadata": {},
   "source": [
    "Note that in Python:\n",
    "```\n",
    "> a = [\"*\", \"-\", \"*\"]\n",
    "> \"\".join(a)\n",
    "*-*\n",
    "```\n",
    "Do not print raw data structures; do not insert unneeded/requested spaces!"
   ]
  },
  {
   "cell_type": "code",
   "execution_count": 32,
   "metadata": {},
   "outputs": [],
   "source": [
    "def pretty_print_solution( world, path, start):\n",
    "    \n",
    "    goal_state = path[(len( path ) - 1)]\n",
    "    \n",
    "    for path_index in range( 0, len(path) ):\n",
    "        # isolate x and y coordinates from tuple\n",
    "        startXcoord = path[path_index][0]\n",
    "        startYcoord = path[path_index][1]\n",
    "        \n",
    "        # if it is the last item in the list,\n",
    "        # it is the goal state\n",
    "        if path[path_index] == goal_state:\n",
    "            world[startYcoord][startXcoord] = \"G\"\n",
    "            break\n",
    "        \n",
    "        # isolate x and y coordinates of the next state\n",
    "        nextXcoord = path[path_index + 1][0]\n",
    "        nextYcoord = path[path_index + 1][1]\n",
    "        \n",
    "        # calculate difference between x and y coordinates\n",
    "        # of current state and the next state\n",
    "        changeInX = nextXcoord - startXcoord\n",
    "        changeInY = nextYcoord - startYcoord\n",
    "        \n",
    "        # determine whether the next state is up, down,\n",
    "        # left, or right of the current state\n",
    "            \n",
    "        if changeInX == 1:\n",
    "            world[startYcoord][startXcoord] = \">\"\n",
    "        \n",
    "        if changeInX == -1:\n",
    "            world[startYcoord][startXcoord] = \"<\"\n",
    "            \n",
    "        if changeInY == 1:\n",
    "            world[startYcoord][startXcoord] = \"v\"\n",
    "        \n",
    "        if changeInY == -1:\n",
    "            world[startYcoord][startXcoord] = \"^\"\n",
    "    \n",
    "    # change all other symbols to *\n",
    "    direction_markers = [\">\", \"<\", \"v\", \"^\", \"G\"]\n",
    "    \n",
    "    for list_index in range( 0, len(world) ):\n",
    "        for element_index in range( 0, len(world[list_index]) ):\n",
    "            if world[list_index][element_index] not in direction_markers:\n",
    "                world[list_index][element_index] = \"*\"\n",
    "                \n",
    "    for j in range( 0, len(world) ):\n",
    "        print( \"\".join( world[j] ) )   \n",
    "    \n",
    "    return None"
   ]
  },
  {
   "cell_type": "markdown",
   "metadata": {},
   "source": [
    "Execute `a_star_search` and `print_path` for the `test_world` and the `real_world`."
   ]
  },
  {
   "cell_type": "code",
   "execution_count": 33,
   "metadata": {},
   "outputs": [
    {
     "name": "stdout",
     "output_type": "stream",
     "text": [
      "[(0, 0), (0, 1), (0, 2), (0, 3), (1, 3), (2, 3), (3, 3), (4, 3), (5, 3), (6, 3), (6, 4), (6, 5), (6, 6)]\n",
      "v******\n",
      "v******\n",
      "v******\n",
      ">>>>>>v\n",
      "******v\n",
      "******v\n",
      "******G\n"
     ]
    }
   ],
   "source": [
    "path = a_star_search(test_world, (0, 0), (len(test_world[0]) - 1, len(test_world) - 1), COSTS, MOVES, my_heuristic)\n",
    "print(path)\n",
    "pretty_print_solution(test_world, path, (0, 0))"
   ]
  },
  {
   "cell_type": "code",
   "execution_count": 34,
   "metadata": {},
   "outputs": [
    {
     "name": "stdout",
     "output_type": "stream",
     "text": [
      "[(0, 0), (0, 1), (0, 2), (0, 3), (0, 4), (0, 5), (0, 6), (0, 7), (0, 8), (0, 9), (0, 10), (0, 11), (0, 12), (0, 13), (0, 14), (1, 14), (1, 15), (1, 16), (1, 17), (1, 18), (1, 19), (1, 20), (1, 21), (2, 21), (3, 21), (3, 22), (4, 22), (5, 22), (6, 22), (6, 23), (6, 24), (7, 24), (8, 24), (9, 24), (9, 25), (9, 26), (10, 26), (11, 26), (12, 26), (13, 26), (14, 26), (15, 26), (16, 26), (17, 26), (18, 26), (19, 26), (20, 26), (21, 26), (22, 26), (23, 26), (24, 26), (25, 26), (26, 26)]\n",
      "v**************************\n",
      "v**************************\n",
      "v**************************\n",
      "v**************************\n",
      "v**************************\n",
      "v**************************\n",
      "v**************************\n",
      "v**************************\n",
      "v**************************\n",
      "v**************************\n",
      "v**************************\n",
      "v**************************\n",
      "v**************************\n",
      "v**************************\n",
      ">v*************************\n",
      "*v*************************\n",
      "*v*************************\n",
      "*v*************************\n",
      "*v*************************\n",
      "*v*************************\n",
      "*v*************************\n",
      "*>>v***********************\n",
      "***>>>v********************\n",
      "******v********************\n",
      "******>>>v*****************\n",
      "*********v*****************\n",
      "*********>>>>>>>>>>>>>>>>>G\n"
     ]
    }
   ],
   "source": [
    "path = a_star_search(full_world, (0, 0), (len(full_world[0]) - 1, len(full_world) - 1), COSTS, MOVES, my_heuristic)\n",
    "print(path)\n",
    "pretty_print_solution(full_world, path, (0, 0))"
   ]
  },
  {
   "cell_type": "markdown",
   "metadata": {},
   "source": [
    "## Think About..."
   ]
  },
  {
   "cell_type": "markdown",
   "metadata": {},
   "source": [
    "This first assignment may not have been difficult for you if you've encountered A* search before in your Algorithms course. In preparation for future assignments that build on State Space Search, you can think about the following or even do an implementation if you like. You should **not** submit it as part of this assignment.\n",
    "\n",
    "In several future assignments, we will have a need for a \"plain ol'\" Depth First Search algorithm.\n",
    "\n",
    "1. Implement DFS Search to solve the problem presented in this programming assignment. Try to be as general as possible (don't hard code anything you can pass as a formal parameter).\n",
    "2. Can you implement DFS Search as a higher order function and supply your own `is_goal`, `successors`, and `path` functions? How do you handle *state*?\n",
    "3. Can you write a version of DFS that returns all the solutions?\n",
    "\n",
    "In one future assignment a Breadth First Search algorithm will be very handy. Can you implement a search algorithm that changes whether it uses DFS or BFS by parameterization?"
   ]
  },
  {
   "cell_type": "markdown",
   "metadata": {},
   "source": [
    "## Before You Submit...\n",
    "\n",
    "1. Did you provide output exactly as requested?\n",
    "2. Did you re-execute the entire notebook? (\"Restart Kernel and Rull All Cells...\")\n",
    "3. If you did not complete the assignment or had difficulty please explain what gave you the most difficulty in the Markdown cell below.\n",
    "4. Did you change the name of the file to `jhed_id.ipynb`?\n",
    "\n",
    "Do not submit any other files."
   ]
  },
  {
   "cell_type": "markdown",
   "metadata": {},
   "source": []
  }
 ],
 "metadata": {
  "kernelspec": {
   "display_name": "Python (en605645)",
   "language": "python",
   "name": "en605645"
  },
  "language_info": {
   "codemirror_mode": {
    "name": "ipython",
    "version": 3
   },
   "file_extension": ".py",
   "mimetype": "text/x-python",
   "name": "python",
   "nbconvert_exporter": "python",
   "pygments_lexer": "ipython3",
   "version": "3.8.8"
  },
  "toc": {
   "colors": {
    "hover_highlight": "#DAA520",
    "navigate_num": "#000000",
    "navigate_text": "#333333",
    "running_highlight": "#FF0000",
    "selected_highlight": "#FFD700",
    "sidebar_border": "#EEEEEE",
    "wrapper_background": "#FFFFFF"
   },
   "moveMenuLeft": true,
   "nav_menu": {
    "height": "192px",
    "width": "252px"
   },
   "navigate_menu": true,
   "number_sections": true,
   "sideBar": true,
   "threshold": 4,
   "toc_cell": false,
   "toc_section_display": "block",
   "toc_window_display": false,
   "widenNotebook": false
  }
 },
 "nbformat": 4,
 "nbformat_minor": 4
}
